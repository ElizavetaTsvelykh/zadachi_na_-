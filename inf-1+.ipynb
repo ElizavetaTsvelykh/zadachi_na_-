{
 "cells": [
  {
   "cell_type": "code",
   "execution_count": 1,
   "metadata": {},
   "outputs": [
    {
     "name": "stdout",
     "output_type": "stream",
     "text": [
      "точки линейно разделимы\n",
      "------------------------------------------------\n",
      "4.5 - точка с макс. accurasy \n",
      "------------------------------------------------\n",
      "1.0 - значение accurasy в этой точке\n"
     ]
    }
   ],
   "source": [
    "o = [1,2,3,4]\n",
    "x = [5,6,7,9]\n",
    "\n",
    "def accurasy(a,b):\n",
    "    c = (a+b)/2\n",
    "    count_x = 0\n",
    "    count_o = 0\n",
    "    for i in range(len(o)):\n",
    "        if c > o[i]:\n",
    "            count_o += 1\n",
    "    for i in range(len(x)):\n",
    "        if c < x[i]:\n",
    "            count_x += 1\n",
    "    accurasy_1 = (count_o + count_x)/(len(o) + len(x))\n",
    "\n",
    "    count_x = 0\n",
    "    count_o = 0\n",
    "\n",
    "    for i in range(len(o)):\n",
    "        if c < o[i]:\n",
    "            count_o += 1\n",
    "    for i in range(len(x)):\n",
    "        if c > x[i]:\n",
    "            count_x += 1\n",
    "    accurasy_2 = (count_o + count_x)/(len(o) + len(x))\n",
    "\n",
    "    return max(accurasy_1, accurasy_2), c\n",
    "\n",
    "all = o + x\n",
    "all.sort()\n",
    "accurasy_all = []\n",
    "accurasy_min = accurasy(min(all) , min(all)-1)\n",
    "accurasy_max = accurasy(max(all), max(all)+1)\n",
    "accurasy_all.append((accurasy_min))\n",
    "accurasy_all.append((accurasy_max))\n",
    "\n",
    "for i in range(len(all)-1):\n",
    "    if (all[i] in o and all[i+1] in x) or (all[i] in x and all[i+1] in o):\n",
    "        accurasy_all.append(accurasy(all[i], all[i+1]))\n",
    "accurasy_all.sort(key=lambda x: x[0], reverse=True)\n",
    "\n",
    "if max(o) < min(x) or max(x) < min(o):\n",
    "    print('точки линейно разделимы')\n",
    "else:\n",
    "    print('точки линейно неразделимы')\n",
    "print('-'*48)\n",
    "print(f'{accurasy_all[0][1]} - точка с макс. accurasy ')\n",
    "print('-'*48)\n",
    "print(f'{accurasy_all[0][0]} - значение accurasy в этой точке')"
   ]
  }
 ],
 "metadata": {
  "kernelspec": {
   "display_name": "Python 3",
   "language": "python",
   "name": "python3"
  },
  "language_info": {
   "codemirror_mode": {
    "name": "ipython",
    "version": 3
   },
   "file_extension": ".py",
   "mimetype": "text/x-python",
   "name": "python",
   "nbconvert_exporter": "python",
   "pygments_lexer": "ipython3",
   "version": "3.12.6"
  }
 },
 "nbformat": 4,
 "nbformat_minor": 2
}
