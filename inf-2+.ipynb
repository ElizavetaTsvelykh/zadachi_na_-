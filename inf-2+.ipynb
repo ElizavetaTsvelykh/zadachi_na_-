{
 "cells": [
  {
   "cell_type": "code",
   "execution_count": 15,
   "metadata": {},
   "outputs": [
    {
     "name": "stdout",
     "output_type": "stream",
     "text": [
      "точка принадлежит классу крестиков, так как количество ближайших точек крестиков = 2 , больше чем количество ближайших точек кружочков = 1\n"
     ]
    }
   ],
   "source": [
    "import math\n",
    "k = 3\n",
    "o = []\n",
    "x = []\n",
    "o_len = []\n",
    "x_len = []\n",
    "\n",
    "for i in range(4):\n",
    "    a = []\n",
    "    a.append(int(input('введите координату X кружочка: ')))\n",
    "    a.append(int(input('введите координату Y кружочка: ')))\n",
    "    o.append(a)\n",
    "\n",
    "for i in range(4):\n",
    "    a = []\n",
    "    a.append(int(input('введите координату X  крестика: ')))\n",
    "    a.append(int(input('введите координату Y  крестика: ')))\n",
    "    x.append(a)\n",
    "\n",
    "c = [int(input('введите координату X вашей точки')), int(input('введите координатy Y вашей точки' ))]\n",
    "\n",
    "def dlina(b,i):\n",
    "    d = math.sqrt((c[0] - b[i][0])**2 + (c[1] - b[i][1])**2)\n",
    "    return d\n",
    "\n",
    "for i in range(4):\n",
    "    o_len.append(dlina(o,i))\n",
    "    x_len.append(dlina(x,i))\n",
    "o_len.sort(reverse=False), x_len.sort(reverse=False)\n",
    "\n",
    "count_o = 0\n",
    "count_x = 0\n",
    "lens = []\n",
    "\n",
    "for i in range(len(o_len)):\n",
    "    a =[]\n",
    "    b = []\n",
    "    a.append(o_len[i])\n",
    "    a.append(0)\n",
    "    lens.append(a)\n",
    "    b.append(x_len[i])\n",
    "    b.append(1)\n",
    "    lens.append(b)\n",
    "lens.sort(key=lambda x: x[0])\n",
    "\n",
    "for i in range(k):\n",
    "    if lens[i][1] == 0:\n",
    "        count_o +=1\n",
    "    else:\n",
    "        count_x +=1\n",
    "        \n",
    "if count_o > count_x:\n",
    "    print('точка принадлежит классу кружочков, так как количество ближайших точек кружочков =',  count_o, ', больше чем количество ближайших точек крестиков =', count_x)\n",
    "else:\n",
    "    print('точка принадлежит классу крестиков, так как количество ближайших точек крестиков =', count_x, ', больше чем количество ближайших точек кружочков =', count_o)"
   ]
  }
 ],
 "metadata": {
  "kernelspec": {
   "display_name": "Python 3",
   "language": "python",
   "name": "python3"
  },
  "language_info": {
   "codemirror_mode": {
    "name": "ipython",
    "version": 3
   },
   "file_extension": ".py",
   "mimetype": "text/x-python",
   "name": "python",
   "nbconvert_exporter": "python",
   "pygments_lexer": "ipython3",
   "version": "3.12.6"
  }
 },
 "nbformat": 4,
 "nbformat_minor": 2
}
